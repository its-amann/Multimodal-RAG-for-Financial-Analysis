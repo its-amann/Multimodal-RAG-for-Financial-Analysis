{
 "cells": [
  {
   "cell_type": "markdown",
   "metadata": {},
   "source": [
    "Welcome to the **Capstone Project - Multimodal Data Notebook**. This project integrates and analyzes data from multiple modalities to derive comprehensive insights and predictions. It combines diverse data types such as text, images, and structured data, harnessing state-of-the-art techniques to perform robust multimodal fusion.\n",
    "\n",
    "**Architecture & Methodology:**\n",
    "- **Multimodal Data Integration:** The project consolidates information from different sources—textual, visual, and more—to build a unified model that leverages the strengths of each modality.\n",
    "- **Data Preprocessing & Feature Engineering:** Each modality is processed with tailored techniques (e.g., text cleaning and tokenization for textual data, normalization and augmentation for images) to extract meaningful features. These features are then combined using advanced fusion strategies.\n",
    "- **Model Training & Fusion Strategies:** The integrated model employs deep learning architectures that support various fusion techniques (early, intermediate, or late fusion) to effectively capture interactions between modalities. The training process includes cross-validation and hyperparameter tuning to ensure robust performance.\n",
    "- **Evaluation & Insights:** The model’s performance is assessed using appropriate metrics, and visualizations help interpret the contributions of individual modalities as well as the overall system effectiveness.\n",
    "\n",
    "**Workflow:**\n",
    "1. **Data Import & Preprocessing:** Load and clean data from diverse sources, applying modality-specific preprocessing steps.\n",
    "2. **Feature Extraction:** Derive key features from each modality using specialized techniques.\n",
    "3. **Multimodal Fusion:** Integrate the features into a cohesive representation through advanced fusion strategies.\n",
    "4. **Model Training & Tuning:** Train the unified model with a focus on optimizing performance and generalizability.\n",
    "5. **Analysis & Visualization:** Evaluate the model with comprehensive metrics and visualizations to extract actionable insights.\n",
    "\n",
    "**Technologies & Tools:**\n",
    "- **Programming Language:** Python\n",
    "- **Key Libraries:** TensorFlow/PyTorch, Pandas, NumPy, OpenCV, Transformers, and additional modality-specific libraries.\n",
    "\n",
    "---\n"
   ]
  },
  {
   "cell_type": "markdown",
   "metadata": {
    "id": "YIDlfsXV3UkH"
   },
   "source": [
    "# Environment setup"
   ]
  },
  {
   "cell_type": "code",
   "execution_count": 2,
   "metadata": {
    "colab": {
     "base_uri": "https://localhost:8080/"
    },
    "executionInfo": {
     "elapsed": 47870,
     "status": "ok",
     "timestamp": 1734367205555,
     "user": {
      "displayName": "Gladys Mawarni",
      "userId": "03879441175200282144"
     },
     "user_tz": 0
    },
    "id": "ezvzErZD3OIc",
    "outputId": "9ea254c6-ae92-4dee-a793-a8b288c6dbfc"
   },
   "outputs": [
    {
     "name": "stdout",
     "output_type": "stream",
     "text": [
      "\u001b[?25l     \u001b[90m━━━━━━━━━━━━━━━━━━━━━━━━━━━━━━━━━━━━━━━━\u001b[0m \u001b[32m0.0/800.5 kB\u001b[0m \u001b[31m?\u001b[0m eta \u001b[36m-:--:--\u001b[0m\r\u001b[2K     \u001b[91m━━━━\u001b[0m\u001b[90m╺\u001b[0m\u001b[90m━━━━━━━━━━━━━━━━━━━━━━━━━━━━━━━━━━━\u001b[0m \u001b[32m81.9/800.5 kB\u001b[0m \u001b[31m2.7 MB/s\u001b[0m eta \u001b[36m0:00:01\u001b[0m\r\u001b[2K     \u001b[91m━━━━━━━━━━━━━━━━━━━━━━━━━━━━━━\u001b[0m\u001b[91m╸\u001b[0m\u001b[90m━━━━━━━━━\u001b[0m \u001b[32m614.4/800.5 kB\u001b[0m \u001b[31m8.7 MB/s\u001b[0m eta \u001b[36m0:00:01\u001b[0m\r\u001b[2K     \u001b[90m━━━━━━━━━━━━━━━━━━━━━━━━━━━━━━━━━━━━━━━━\u001b[0m \u001b[32m800.5/800.5 kB\u001b[0m \u001b[31m7.9 MB/s\u001b[0m eta \u001b[36m0:00:00\u001b[0m\n",
      "\u001b[?25h  Installing build dependencies ... \u001b[?25l\u001b[?25hdone\n",
      "  Getting requirements to build wheel ... \u001b[?25l\u001b[?25hdone\n",
      "  Preparing metadata (pyproject.toml) ... \u001b[?25l\u001b[?25hdone\n",
      "\u001b[2K   \u001b[90m━━━━━━━━━━━━━━━━━━━━━━━━━━━━━━━━━━━━━━━━\u001b[0m \u001b[32m50.7/50.7 kB\u001b[0m \u001b[31m4.0 MB/s\u001b[0m eta \u001b[36m0:00:00\u001b[0m\n",
      "\u001b[2K   \u001b[90m━━━━━━━━━━━━━━━━━━━━━━━━━━━━━━━━━━━━━━━━\u001b[0m \u001b[32m390.3/390.3 kB\u001b[0m \u001b[31m27.1 MB/s\u001b[0m eta \u001b[36m0:00:00\u001b[0m\n",
      "\u001b[2K   \u001b[90m━━━━━━━━━━━━━━━━━━━━━━━━━━━━━━━━━━━━━━━━\u001b[0m \u001b[32m2.5/2.5 MB\u001b[0m \u001b[31m59.8 MB/s\u001b[0m eta \u001b[36m0:00:00\u001b[0m\n",
      "\u001b[2K   \u001b[90m━━━━━━━━━━━━━━━━━━━━━━━━━━━━━━━━━━━━━━━━\u001b[0m \u001b[32m1.0/1.0 MB\u001b[0m \u001b[31m47.5 MB/s\u001b[0m eta \u001b[36m0:00:00\u001b[0m\n",
      "\u001b[2K   \u001b[90m━━━━━━━━━━━━━━━━━━━━━━━━━━━━━━━━━━━━━━━━\u001b[0m \u001b[32m411.2/411.2 kB\u001b[0m \u001b[31m27.2 MB/s\u001b[0m eta \u001b[36m0:00:00\u001b[0m\n",
      "\u001b[2K   \u001b[90m━━━━━━━━━━━━━━━━━━━━━━━━━━━━━━━━━━━━━━━━\u001b[0m \u001b[32m1.2/1.2 MB\u001b[0m \u001b[31m56.3 MB/s\u001b[0m eta \u001b[36m0:00:00\u001b[0m\n",
      "\u001b[2K   \u001b[90m━━━━━━━━━━━━━━━━━━━━━━━━━━━━━━━━━━━━━━━━\u001b[0m \u001b[32m209.5/209.5 MB\u001b[0m \u001b[31m6.2 MB/s\u001b[0m eta \u001b[36m0:00:00\u001b[0m\n",
      "\u001b[2K   \u001b[90m━━━━━━━━━━━━━━━━━━━━━━━━━━━━━━━━━━━━━━━━\u001b[0m \u001b[32m49.5/49.5 kB\u001b[0m \u001b[31m3.8 MB/s\u001b[0m eta \u001b[36m0:00:00\u001b[0m\n",
      "\u001b[?25h  Building wheel for openai-whisper (pyproject.toml) ... \u001b[?25l\u001b[?25hdone\n",
      "Reading package lists... Done\n",
      "Building dependency tree... Done\n",
      "Reading state information... Done\n",
      "The following NEW packages will be installed:\n",
      "  poppler-utils\n",
      "0 upgraded, 1 newly installed, 0 to remove and 49 not upgraded.\n",
      "Need to get 186 kB of archives.\n",
      "After this operation, 696 kB of additional disk space will be used.\n",
      "Get:1 http://archive.ubuntu.com/ubuntu jammy-updates/main amd64 poppler-utils amd64 22.02.0-2ubuntu0.5 [186 kB]\n",
      "Fetched 186 kB in 1s (151 kB/s)\n",
      "Selecting previously unselected package poppler-utils.\n",
      "(Reading database ... 123633 files and directories currently installed.)\n",
      "Preparing to unpack .../poppler-utils_22.02.0-2ubuntu0.5_amd64.deb ...\n",
      "Unpacking poppler-utils (22.02.0-2ubuntu0.5) ...\n",
      "Setting up poppler-utils (22.02.0-2ubuntu0.5) ...\n",
      "Processing triggers for man-db (2.10.2-1) ...\n",
      "Requirement already satisfied: Pillow in /usr/local/lib/python3.10/dist-packages (11.0.0)\n"
     ]
    }
   ],
   "source": [
    "# Install necessary libraries\n",
    "!pip install -q openai langchain langchain-openai langchain-community openai-whisper sentence-transformers pdf2image\n",
    "!apt-get install poppler-utils\n",
    "!pip install --upgrade Pillow"
   ]
  },
  {
   "cell_type": "code",
   "execution_count": null,
   "metadata": {
    "id": "9AMZtd8Y4M1g"
   },
   "outputs": [],
   "source": [
    "%cd /content/drive/MyDrive/GenAI/RAG/CAPSTONE PROJECT - MultiModal Data"
   ]
  },
  {
   "cell_type": "code",
   "execution_count": null,
   "metadata": {
    "id": "dCBrgleu3aBl"
   },
   "outputs": [],
   "source": [
    "from google.colab import userdata\n",
    "api_key = userdata.get('genai_course')"
   ]
  },
  {
   "cell_type": "code",
   "execution_count": 4,
   "metadata": {
    "colab": {
     "base_uri": "https://localhost:8080/"
    },
    "executionInfo": {
     "elapsed": 28713,
     "status": "ok",
     "timestamp": 1734367300793,
     "user": {
      "displayName": "Gladys Mawarni",
      "userId": "03879441175200282144"
     },
     "user_tz": 0
    },
    "id": "iAn8uNNi3pk0",
    "outputId": "129746ec-3eed-431d-a298-7fd0ae8476dc"
   },
   "outputs": [
    {
     "name": "stderr",
     "output_type": "stream",
     "text": [
      "/usr/local/lib/python3.10/dist-packages/sentence_transformers/cross_encoder/CrossEncoder.py:13: TqdmExperimentalWarning: Using `tqdm.autonotebook.tqdm` in notebook mode. Use `tqdm.tqdm` instead to force console mode (e.g. in jupyter console)\n",
      "  from tqdm.autonotebook import tqdm, trange\n"
     ]
    }
   ],
   "source": [
    "# Import libraries\n",
    "from langchain_openai import ChatOpenAI\n",
    "from openai import OpenAI\n",
    "from IPython.display import display, Markdown\n",
    "from sentence_transformers import SentenceTransformer\n",
    "import whisper\n",
    "import pandas as pd\n",
    "import base64\n",
    "from pdf2image import convert_from_path\n",
    "from PIL import Image\n",
    "from sklearn.metrics.pairwise import cosine_similarity\n",
    "import os\n",
    "import torch"
   ]
  },
  {
   "cell_type": "markdown",
   "metadata": {
    "id": "Ns4A65PR34Cu"
   },
   "source": [
    "# Audio Transcription"
   ]
  },
  {
   "cell_type": "code",
   "execution_count": null,
   "metadata": {
    "colab": {
     "base_uri": "https://localhost:8080/"
    },
    "executionInfo": {
     "elapsed": 6,
     "status": "ok",
     "timestamp": 1726911571775,
     "user": {
      "displayName": "Diogo Resende",
      "userId": "05706604408624562002"
     },
     "user_tz": -120
    },
    "id": "oHglsSOD8ypB",
    "outputId": "ea5769f9-7068-4248-c870-0e074217e910"
   },
   "outputs": [
    {
     "name": "stdout",
     "output_type": "stream",
     "text": [
      "Using device: cpu\n"
     ]
    }
   ],
   "source": [
    "# Check if a CUDA GPU is available\n",
    "device = \"cuda\" if torch.cuda.is_available() else \"cpu\"\n",
    "print(f\"Using device: {device}\")"
   ]
  },
  {
   "cell_type": "code",
   "execution_count": null,
   "metadata": {
    "colab": {
     "base_uri": "https://localhost:8080/"
    },
    "executionInfo": {
     "elapsed": 303949,
     "status": "ok",
     "timestamp": 1726911920681,
     "user": {
      "displayName": "Diogo Resende",
      "userId": "05706604408624562002"
     },
     "user_tz": -120
    },
    "id": "8uGcuQEw32ZE",
    "outputId": "53e2f717-063b-4265-ff80-3da233d877b7"
   },
   "outputs": [
    {
     "name": "stderr",
     "output_type": "stream",
     "text": [
      "/usr/local/lib/python3.10/dist-packages/whisper/transcribe.py:115: UserWarning: FP16 is not supported on CPU; using FP32 instead\n",
      "  warnings.warn(\"FP16 is not supported on CPU; using FP32 instead\")\n"
     ]
    }
   ],
   "source": [
    "# Transcribe an audio file using Whisper\n",
    "model = whisper.load_model(\"base\", device=device)\n",
    "input_file = \"starbucks-q3.mp3\"\n",
    "result = model.transcribe(input_file)\n",
    "transcription_text = result['text']"
   ]
  },
  {
   "cell_type": "code",
   "execution_count": null,
   "metadata": {
    "colab": {
     "base_uri": "https://localhost:8080/"
    },
    "executionInfo": {
     "elapsed": 36,
     "status": "ok",
     "timestamp": 1726911920681,
     "user": {
      "displayName": "Diogo Resende",
      "userId": "05706604408624562002"
     },
     "user_tz": -120
    },
    "id": "hQESFOSR67kM",
    "outputId": "d804c760-4aa1-4a65-95ae-ba14fb4e3df7"
   },
   "outputs": [
    {
     "name": "stdout",
     "output_type": "stream",
     "text": [
      "Transcription Output:\n",
      " 2024. And with that, I'll now tell Nicole over to Luxembourg. Thank you Tiffany and thank you for joining us this afternoon. Let me start by laying out our results for the squatter. Our Q3 total company revenue was $9.1 billion up 1% year over year and 6% over Q2. Our global comparable store sales declined 3% year over year driven by a negative 2% Comcro in North America and a negative 14% Comcro in China and partially offset by strong performance in Japan. Our global operating margins contracted by 70 basis points to 16.7% and overall earnings per share for the quarter was 93 cents. Our total company results were in line with guidance but international performance particularly in China was challenged. We are not satisfied with the results but our actions are making an impact. Leading business and operational indicators are trending in the right direction ahead of our financial results and our runway for improvement is long. We see green shoots in our US business driven by the three-part action plan outlined last quarter. First meet an unlock capacity for new demand through a relentless focus and improvements to our US store operations and on elevating the experience we create for our partners and customers. Second attract new customers and drive transaction growth by launching and integrating more exciting new products with relevant marketing while maintaining our focus on core coffee forward offerings. And third reach new customers and demonstrate our value by making sure customers believe the Starbucks experiences worth it every time. First our largest opportunity meet an unlock capacity for new demand. A relentless focus on improving operational execution across our nearly 10,000 US company operated stores is the cornerstone of our near-term plan. While it is early days of progress our plan is working. If you walk away from today's call with one thought let it be the significant changes and long-term upside potential taking place within our US stores and across our end-to-end supply chain to unlock growth enhance the customer experience and drive cost efficiencies. Within our stores we've seen material positive momentum across core store health and performance metrics with notable improvements in partner scheduling and turnover critical store issues and inventory management. Stores ranked in our top two operational performance quartiles reached a new high during the quarter a 28% upwards shift from Q2 but we have more opportunity. Our focus on operational excellence driven by a reinvention plan has led to a multi-second year over-year improvement in out of the window times. A nearly 50% reduction in calls received by a customer contact center for my order took too long and mobile order and pay and delivery uptime rates of 99%. These are key indicators of our work to drive growth by addressing customer wait times product availability and the customer experience. This quarter we also introduced phase one of our side-and-craft systems which includes several process and partner-driven enhancements to our US store operations. Changes include a new peak time play collar roll, strategic investments in partner hours, training, new routines, simple enhancements to technology and an evolved beverage build process. Early deployment across 1200 stores demonstrated in material incremental improvement across key performance throughput efficiency and reliability metrics. Encouraged by this we fully deployed side-and-craft systems process improvements across our entire portfolio of US company operated stores this week. Later this quarter we will begin rolling out a simple refit to our espresso machines which we expect to improve espresso throughput by up to 15% without compromising quality and with a minus software change in our store production systems we have a similar ability to improve food throughput. When paired with siren system equipment announced as part of our reinvention plan these new processes become a force multiplier that we expect to drive a true step change improvement. Early assessments demonstrate the capability to drive a 10 to 22nd wait time reduction and a resulting calm opportunity range of 1 to 1.5 percent. Leveraging our deep brew analytics platform we have identified customer experience outlier stores approximately 10% of our network and have developed targeted plans to address and improve them including accelerated siren system deployment. Similarly we are accelerating the pace of our new store bills and renovations with 580 net new bills and more than 800 renovations planned in North America for FY 2024. Store development efforts are focused on tier two and tier three cities where we see population growth and forecast both underserved demand and high incrementality. Increasingly these new store bills and renovations also include siren system equipment. Inline with prior guidance we remain on track to deploy equipment at less than 10% of company operated stores by the end of FY 2024 and about 40% by the end of FY 2026. Building on our pilot Starbucks and Gopath have agreed to terms for an expanded relationship to open 100 delivery-owned e-kitchens across the US. We're also accelerating the rollout of digital storyboards with target deployment across most US stores in the next two years a year earlier than originally anticipated. Lastly we're working on other ways to enhance the cafe experience. This includes new and expanded seating options that elevate many stores while upholding a safe and inviting place for partners and customers. A key outcome of our operational efforts has been material and sustained improvements to the partner experience. Driven by precision partner centric staffing and scheduling efforts we ended the quarter with a new post pandemic low partner turnover rate. The best shift completion rate in two years and a 13% improvement an average hours per partner. Now the highest on record. These initiatives create most stability in our stores provide more predictability for our partners and sustain our experience flywheel. Looking beyond our stores we continue to realize new efficiencies cost savings and performance improvements across our end-to-end supply chain thanks to strong support from our suppliers and we see even more headroom. We have a structured process to realize significant continued improvements across our end-to-end supply chain. We are ahead of plan on productivity. We expect our productivity to drive efficiency and unlock capital from areas that don't touch the customer. In turn these savings will enable us to target investments that drive value for our customers beginning later in Q4 re-igniting on North America flywheel for growth. We're early days on this journey building both our strategic sourcing and revenue management capabilities. Our second priority is to drive demand through relevant product innovation with coffee and our core. We've seen meaningful improvement here as well. This quarter we drove traffic into our stores through an engaging and innovative pipeline of products supported by integrated marketing campaigns. Core share was up 1% year over year representing 76% of our beverage makes through the quarter. On newly formulated iced coffee received positive feedback. Our strength and cold espresso innovation continue to drive the platform's growth up 4% year over year and be launched Starbucks Milano Dueto, Holbin Coffee in Milan, ahead of a global launch this October. Beyond coffee, unused summer-berry Starbucks refreshes beverages with pearls drove the highest week one product launch in our history. Their success buoyed the entire Starbucks refreshes beverage platform to an all-time high during the quarter. As mentioned in Q2, we continue to build out our 24-month product pipeline while accelerating our pace of innovation. For example, recognize the growing appeal and opportunity created by the energy category. We launched a new handcrafted iced energy beverages across our US stores in just three months compared to a normal 12 to 18. Looking forward, we believe our Q4 product offerings, including the return of pumpkin spice, combined with supporting marketing activities and offers, provides the right formula to drive customer interest, demand, and deeper engagement with both new and existing customers. A third and final near-term priorities to reach new customers and demonstrate the value we offer by ensuring the Starbucks experience at worth it every time. Recognizing the premium position of our brand, we've been measured in our use of offers. During this quarter, only 14% of our transactions were driven by offers compared to a competitive average of 29%. Of offer-driven transactions, 10% with star-based offers targeted to Starbucks' rewards members. Only 4% were driven by price-based offers. Our best offers are in the app. Together, offers and other integrated marketing activities, where paired with exciting product innovation successfully grew Starbucks rewards membership, reactivated many labs towards members, and drove customer traffic on promotional days and product launch weeks. Active US Starbucks rewards members grew to 33.8 million during the quarter. Members across every desial increased the frequency of their visits. We're focused on the continued growth of the program because the average active member spends materially more annually and drives a high- lifetime value for the business than a non-member. Research also tells us that the most inactive Starbucks rewards members don't realize they've lapsed. This demonstrates a continued opportunity to drive return visits, active member growth, and deeper customer loyalty. Looking forward, we will continue to use more targeted offers coupled with select pricing actions funded by efficiency initiatives to drive traffic and conversion. We plan to leverage a mix of paid media, acquisition, and retention offers, disruptive signage, and partner education to drive transactions and increase the frequency of visits. We're the focus on product launches and continued Starbucks rewards member growth. It's worth remembering the ubiquity of the Starbucks brand and our ability to intercept customers. For instance, our businesses up 13% in airports and up 9% in hotels pointing to these trends. Leveraging our brand and our ability to intercept customers while demonstrating value, not just in price, but through a premium experience remains a sizable opportunity across our entire store portfolio. Moving on to digital as part of our action plan, we may continue to improve into our Starbucks app, including wait time algorithm enhancements that have improved orderly accuracy by nearly 50 percentage points. This combined with in-app offers helped drive a 10% year-over-year growth in mobile order and pay revenue, and a 7% year-over-year increase in MOP transactions. Looking deeper, our data shows that one in four non-starbucks rewards members want the ability to use mobile order pay. Nearly 80% of those customers don't want to join a rewards program or create an account to do it. In response, we opened MOP for all to provide those customers the convenience they see while removing perceived barriers to entry. We believe these enhancements to the digital experience coupled with more effortless ordering will continue to drive Starbucks rewards membership over time with customers increasing frequency and spend. Once customers are in our digital ecosystem, they're more likely to remain engaged across channels and drive greater lifetime value. In summary, our plans are beginning to work. We've recovering our brand from its perceptions. We're rebuilding the operational foundation of our stores and supply chain. We're reducing costs to support investments. We're sustaining partner experience improvements and we're working to make the Starbucks experience worth it every time. While it's early days, I'm confident in the trajectory of our US business and the operational improvements we're making. And I'm reassured by the impact our work is expected to deliver in FY 2025 and beyond. Looking outside the US, we continue to see weakness in parts of our international business and strength in others. Headwinds persist in the Middle East, Southeast Asia, parts of Europe driven by widely discussed misperceptions about our brand. In some European markets, consumers are stretched. At the same time, we see significant strength in markets like Japan and parts of Latin America. China is one of our most notable international challenges and an area I'd like to talk about in more detail. The competitive market dynamics in China are reflected in our recent results. We continue to face a more cautious consumer spending and intensified competition. In the past year, unprecedented store expansion and a mass segment price war at the expense of comp and profitability have also caused significant disruption to the operating environment. Still, we have made progress in important areas. Through Q3, metrics like average daily transactions, weekly sales, and operating margin improved sequentially quarter over quarter. Starbucks rewards members grew by 1.6 million to a record high 22 million active members. And customer connection scores reached a new high while partner turnover reached a new low. We've built an amazing business in China over the past 25 years. A business for China built by an outstanding local team. We've pioneered the growth of the premium coffee industry in market with our Starbucks and Starbucks reserve brands. And brand equity remains distinctive. We've incredibly committed and expert partners with an unmatched depth in coffee and craft. Our stores are distinctive in industry leading and our supply chain is world-class. New stores have expanded our presence to more than 900 county cities and continue to drive exceptional cash on cash returns and a payback of less than two years. We're looking beyond near-term challenges and towards long-term opportunities in the market. We built Starbucks in China around three principles. A great customer experience is grounded.\n"
     ]
    }
   ],
   "source": [
    "# Check transcription output\n",
    "print(\"Transcription Output:\")\n",
    "print(transcription_text)"
   ]
  },
  {
   "cell_type": "code",
   "execution_count": null,
   "metadata": {
    "id": "dzlVVGJk4IuF"
   },
   "outputs": [],
   "source": [
    "# Save the transcription to a text file\n",
    "os.makedirs(\"transcript\", exist_ok=True)\n",
    "with open(\"transcript/transcription.txt\", \"w\") as f:\n",
    "    f.write(transcription_text)"
   ]
  },
  {
   "cell_type": "markdown",
   "metadata": {
    "id": "P-WHuSA34v1U"
   },
   "source": [
    "# Embed Transcription"
   ]
  },
  {
   "cell_type": "code",
   "execution_count": null,
   "metadata": {
    "colab": {
     "base_uri": "https://localhost:8080/"
    },
    "executionInfo": {
     "elapsed": 16,
     "status": "ok",
     "timestamp": 1726911920683,
     "user": {
      "displayName": "Diogo Resende",
      "userId": "05706604408624562002"
     },
     "user_tz": -120
    },
    "id": "Ak52PHtM4xJR",
    "outputId": "6c84ed63-93f8-4f01-b8f2-e56fa60e0385"
   },
   "outputs": [
    {
     "name": "stdout",
     "output_type": "stream",
     "text": [
      "\n",
      "Number of Chunks: 142\n",
      "First few chunks: [\" 2024. And with that, I'll now tell Nicole over to Luxembourg. Thank you Tiffany and thank you for j\", 'oining us this afternoon. Let me start by laying out our results for the squatter. Our Q3 total comp', 'any revenue was $9.1 billion up 1% year over year and 6% over Q2. Our global comparable store sales ']\n"
     ]
    }
   ],
   "source": [
    "# Load transcription text and split into chunks of 100 characters\n",
    "with open('transcript/transcription.txt', 'r', encoding='utf-8') as file:\n",
    "    text = file.read()\n",
    "\n",
    "audio_chunks = [text[i:i+100] for i in range(0, len(text), 100)]\n",
    "\n",
    "# Print chunks to verify splitting\n",
    "print(f\"\\nNumber of Chunks: {len(audio_chunks)}\")\n",
    "print(\"First few chunks:\", audio_chunks[:3])"
   ]
  },
  {
   "cell_type": "code",
   "execution_count": null,
   "metadata": {
    "colab": {
     "base_uri": "https://localhost:8080/"
    },
    "executionInfo": {
     "elapsed": 9122,
     "status": "ok",
     "timestamp": 1726912310971,
     "user": {
      "displayName": "Diogo Resende",
      "userId": "05706604408624562002"
     },
     "user_tz": -120
    },
    "id": "iKHUCFA87EMC",
    "outputId": "9533246b-c65f-4ec7-9578-671fc2de68af"
   },
   "outputs": [
    {
     "name": "stderr",
     "output_type": "stream",
     "text": [
      "/usr/local/lib/python3.10/dist-packages/transformers/tokenization_utils_base.py:1601: FutureWarning: `clean_up_tokenization_spaces` was not set. It will be set to `True` by default. This behavior will be depracted in transformers v4.45, and will be then set to `False` by default. For more details check this issue: https://github.com/huggingface/transformers/issues/31884\n",
      "  warnings.warn(\n"
     ]
    },
    {
     "name": "stdout",
     "output_type": "stream",
     "text": [
      "\n",
      "Audio Embeddings Shape: (142, 512)\n"
     ]
    }
   ],
   "source": [
    "# Load Sentence Transformer model and embed the text chunks\n",
    "model = SentenceTransformer('clip-ViT-B-32')\n",
    "audio_embeddings = model.encode(audio_chunks)\n",
    "\n",
    "# Check shape of embeddings\n",
    "print(f\"\\nAudio Embeddings Shape: {audio_embeddings.shape}\")"
   ]
  },
  {
   "cell_type": "markdown",
   "metadata": {
    "id": "Sy4HqajC42EN"
   },
   "source": [
    "# Convert PDF to Images"
   ]
  },
  {
   "cell_type": "code",
   "execution_count": null,
   "metadata": {
    "id": "6rmrnRLV41Hm"
   },
   "outputs": [],
   "source": [
    "# Convert each page of a PDF into images\n",
    "pdf_path = '3Q24-Earnings-Release.pdf'\n",
    "output_folder = 'images'\n",
    "os.makedirs(output_folder, exist_ok=True)"
   ]
  },
  {
   "cell_type": "code",
   "execution_count": null,
   "metadata": {
    "colab": {
     "base_uri": "https://localhost:8080/"
    },
    "executionInfo": {
     "elapsed": 7225,
     "status": "ok",
     "timestamp": 1726912040237,
     "user": {
      "displayName": "Diogo Resende",
      "userId": "05706604408624562002"
     },
     "user_tz": -120
    },
    "id": "Ks06l2_y45hh",
    "outputId": "b82d306a-0ded-4282-ced9-3c5480c7809f"
   },
   "outputs": [
    {
     "name": "stdout",
     "output_type": "stream",
     "text": [
      "PDF pages have been converted to images and saved in 'images'\n",
      "\n",
      "Number of Images: 17\n",
      "Image Paths: ['images/page_1.png', 'images/page_2.png', 'images/page_3.png']\n"
     ]
    }
   ],
   "source": [
    "images = convert_from_path(pdf_path)\n",
    "image_paths = []\n",
    "\n",
    "for i, image in enumerate(images):\n",
    "    image_path = f'images/page_{i + 1}.png'\n",
    "    image.save(image_path, 'PNG')\n",
    "    image_paths.append(image_path)\n",
    "\n",
    "print(f\"PDF pages have been converted to images and saved in '{output_folder}'\")\n",
    "print(f\"\\nNumber of Images: {len(image_paths)}\")\n",
    "print(f\"Image Paths: {image_paths[:3]}\")  # Print first 3 image paths to check"
   ]
  },
  {
   "cell_type": "markdown",
   "metadata": {
    "id": "SJFWsKVm5FJ4"
   },
   "source": [
    "# Embed Images"
   ]
  },
  {
   "cell_type": "code",
   "execution_count": null,
   "metadata": {
    "colab": {
     "base_uri": "https://localhost:8080/"
    },
    "executionInfo": {
     "elapsed": 11345,
     "status": "ok",
     "timestamp": 1726912082522,
     "user": {
      "displayName": "Diogo Resende",
      "userId": "05706604408624562002"
     },
     "user_tz": -120
    },
    "id": "LjLevVsz5GHW",
    "outputId": "9b9eae14-4ddf-401d-aa38-2956cdac8e7b"
   },
   "outputs": [
    {
     "name": "stderr",
     "output_type": "stream",
     "text": [
      "/usr/local/lib/python3.10/dist-packages/transformers/tokenization_utils_base.py:1601: FutureWarning: `clean_up_tokenization_spaces` was not set. It will be set to `True` by default. This behavior will be depracted in transformers v4.45, and will be then set to `False` by default. For more details check this issue: https://github.com/huggingface/transformers/issues/31884\n",
      "  warnings.warn(\n"
     ]
    }
   ],
   "source": [
    "# Load the CLIP model for embedding images\n",
    "image_model = SentenceTransformer('clip-ViT-B-32')\n",
    "image_embeddings = []\n",
    "\n",
    "for filename in os.listdir(output_folder):\n",
    "    if filename.endswith('.png'):\n",
    "        image_path = os.path.join(output_folder, filename)\n",
    "        image = Image.open(image_path)\n",
    "        embedding = image_model.encode(image)\n",
    "        image_embeddings.append(embedding)"
   ]
  },
  {
   "cell_type": "code",
   "execution_count": null,
   "metadata": {
    "colab": {
     "base_uri": "https://localhost:8080/"
    },
    "executionInfo": {
     "elapsed": 596,
     "status": "ok",
     "timestamp": 1726912085553,
     "user": {
      "displayName": "Diogo Resende",
      "userId": "05706604408624562002"
     },
     "user_tz": -120
    },
    "id": "sE3-kwJv7P_c",
    "outputId": "12109e23-88b2-4d33-becb-42ea55b9fc4f"
   },
   "outputs": [
    {
     "name": "stdout",
     "output_type": "stream",
     "text": [
      "\n",
      "Number of Image Embeddings: 17\n",
      "First Image Embedding Shape: (512,)\n"
     ]
    }
   ],
   "source": [
    "# Check image embeddings\n",
    "print(f\"\\nNumber of Image Embeddings: {len(image_embeddings)}\")\n",
    "print(f\"First Image Embedding Shape: {image_embeddings[0].shape}\")"
   ]
  },
  {
   "cell_type": "markdown",
   "metadata": {
    "id": "GgTXqKAI5Pio"
   },
   "source": [
    "# Similarity Retrieval"
   ]
  },
  {
   "cell_type": "code",
   "execution_count": null,
   "metadata": {
    "id": "b0wrwHwS5KE4"
   },
   "outputs": [],
   "source": [
    "# Define a query and embed it\n",
    "query = \"How is the company doing financially?\"\n",
    "query_embeddings = model.encode(query)"
   ]
  },
  {
   "cell_type": "code",
   "execution_count": null,
   "metadata": {
    "colab": {
     "base_uri": "https://localhost:8080/"
    },
    "executionInfo": {
     "elapsed": 579,
     "status": "ok",
     "timestamp": 1726912407391,
     "user": {
      "displayName": "Diogo Resende",
      "userId": "05706604408624562002"
     },
     "user_tz": -120
    },
    "id": "8vvhMwfI7SQL",
    "outputId": "508065cd-1a67-4d20-c857-c1734ec30cdf"
   },
   "outputs": [
    {
     "name": "stdout",
     "output_type": "stream",
     "text": [
      "\n",
      "Query Embedding Shape: (512,)\n"
     ]
    }
   ],
   "source": [
    "# Print query embedding shape\n",
    "print(f\"\\nQuery Embedding Shape: {query_embeddings.shape}\")"
   ]
  },
  {
   "cell_type": "code",
   "execution_count": null,
   "metadata": {
    "id": "k2nxngZn5SVj"
   },
   "outputs": [],
   "source": [
    "# Compute similarity with transcription embeddings\n",
    "audio_similarities = cosine_similarity([query_embeddings], audio_embeddings)[0]\n",
    "top_k_audio_indices = audio_similarities.argsort()[-20:][::-1]"
   ]
  },
  {
   "cell_type": "code",
   "execution_count": null,
   "metadata": {
    "colab": {
     "base_uri": "https://localhost:8080/"
    },
    "executionInfo": {
     "elapsed": 5,
     "status": "ok",
     "timestamp": 1726912417301,
     "user": {
      "displayName": "Diogo Resende",
      "userId": "05706604408624562002"
     },
     "user_tz": -120
    },
    "id": "iLqpGUeu7UkY",
    "outputId": "87545fe5-2ef2-4e99-c001-d8683670dd32"
   },
   "outputs": [
    {
     "name": "stdout",
     "output_type": "stream",
     "text": [
      "\n",
      "Top 5 Most Similar Audio Chunks (Indices): [125 103  93  13  83]\n",
      "Top 5 Audio Similarities: [0.90979403 0.9083904  0.90681845 0.90532017 0.9050327 ]\n"
     ]
    }
   ],
   "source": [
    "# Print top 5 similar audio chunks\n",
    "print(\"\\nTop 5 Most Similar Audio Chunks (Indices):\", top_k_audio_indices[:5])\n",
    "print(\"Top 5 Audio Similarities:\", audio_similarities[top_k_audio_indices[:5]])"
   ]
  },
  {
   "cell_type": "code",
   "execution_count": null,
   "metadata": {
    "id": "_xV7waF-6A6g"
   },
   "outputs": [],
   "source": [
    "# Compute cosine similarity between the query embedding and each image embedding\n",
    "image_similarities = [(idx, cosine_similarity(query_embeddings.reshape(1, -1), embed.reshape(1, -1))[0][0])\n",
    "                      for idx, embed in enumerate(image_embeddings)]"
   ]
  },
  {
   "cell_type": "code",
   "execution_count": null,
   "metadata": {
    "id": "wiH-E8ZZAHvV"
   },
   "outputs": [],
   "source": [
    "# Sort by similarity and get top 2 most similar images\n",
    "top_2_images = sorted(image_similarities, key=lambda x: x[1], reverse=True)[:2]"
   ]
  },
  {
   "cell_type": "code",
   "execution_count": null,
   "metadata": {
    "colab": {
     "base_uri": "https://localhost:8080/"
    },
    "executionInfo": {
     "elapsed": 441,
     "status": "ok",
     "timestamp": 1726912433200,
     "user": {
      "displayName": "Diogo Resende",
      "userId": "05706604408624562002"
     },
     "user_tz": -120
    },
    "id": "tVDciY3g7YN7",
    "outputId": "e51e4d98-5bda-4731-9e0a-61e15e1cbd13"
   },
   "outputs": [
    {
     "name": "stdout",
     "output_type": "stream",
     "text": [
      "\n",
      "Top 2 Most Similar Images (Indices): [8, 9]\n",
      "Top 2 Image Similarities: [0.26850927, 0.26751676]\n"
     ]
    }
   ],
   "source": [
    "# Print top 2 similar images\n",
    "print(\"\\nTop 2 Most Similar Images (Indices):\", [i[0] for i in top_2_images])\n",
    "print(\"Top 2 Image Similarities:\", [i[1] for i in top_2_images])"
   ]
  },
  {
   "cell_type": "markdown",
   "metadata": {
    "id": "3wO30SQ76PVd"
   },
   "source": [
    "# Prepare Context"
   ]
  },
  {
   "cell_type": "code",
   "execution_count": null,
   "metadata": {
    "id": "8M14jQ-J6D86"
   },
   "outputs": [],
   "source": [
    "# Combine the top transcription chunks into a single text context\n",
    "text_context = ' '.join([audio_chunks[idx] for idx in top_k_audio_indices])"
   ]
  },
  {
   "cell_type": "code",
   "execution_count": null,
   "metadata": {
    "colab": {
     "base_uri": "https://localhost:8080/"
    },
    "executionInfo": {
     "elapsed": 565,
     "status": "ok",
     "timestamp": 1726912445403,
     "user": {
      "displayName": "Diogo Resende",
      "userId": "05706604408624562002"
     },
     "user_tz": -120
    },
    "id": "wKyAQpJ57ao3",
    "outputId": "28d237d1-abc5-40ac-cb2d-64a6de655c7c"
   },
   "outputs": [
    {
     "name": "stdout",
     "output_type": "stream",
     "text": [
      "\n",
      "Text Context (First 300 characters):  one of our most notable international challenges and an area I'd like to talk about in more detail. raging our brand and our ability to intercept customers while demonstrating value, not just in price  growth of the program because the average active member spends materially more annually and drive...\n"
     ]
    }
   ],
   "source": [
    "# Print combined text context\n",
    "print(f\"\\nText Context (First 300 characters): {text_context[:300]}...\")"
   ]
  },
  {
   "cell_type": "code",
   "execution_count": null,
   "metadata": {
    "id": "dT0uAnd86Xm3"
   },
   "outputs": [],
   "source": [
    "# Convert the top 2 images to base64 format\n",
    "base64frames = []\n",
    "for idx, _ in top_2_images:\n",
    "    image_path = image_paths[idx]\n",
    "    with open(image_path, \"rb\") as img_file:\n",
    "        base64frames.append(base64.b64encode(img_file.read()).decode('utf-8'))"
   ]
  },
  {
   "cell_type": "code",
   "execution_count": null,
   "metadata": {
    "colab": {
     "base_uri": "https://localhost:8080/"
    },
    "executionInfo": {
     "elapsed": 454,
     "status": "ok",
     "timestamp": 1726912454183,
     "user": {
      "displayName": "Diogo Resende",
      "userId": "05706604408624562002"
     },
     "user_tz": -120
    },
    "id": "H4199knR7cj4",
    "outputId": "f51f0a6b-23cc-4eff-9387-8082dbeb44da"
   },
   "outputs": [
    {
     "name": "stdout",
     "output_type": "stream",
     "text": [
      "\n",
      "Base64 of First Image (First 100 characters): iVBORw0KGgoAAAANSUhEUgAABqQAAAiYCAIAAAA+NVHkAAEAAElEQVR4nOzddVxUWRsH8Gdm6C7pUFDBQDBRDBBFsbu7u3Vd27W7...\n"
     ]
    }
   ],
   "source": [
    "# Print base64 encoding of first image\n",
    "print(f\"\\nBase64 of First Image (First 100 characters): {base64frames[0][:100]}...\")"
   ]
  },
  {
   "cell_type": "markdown",
   "metadata": {
    "id": "iYgSoEPG6cEV"
   },
   "source": [
    "# Generate Answer"
   ]
  },
  {
   "cell_type": "code",
   "execution_count": null,
   "metadata": {
    "id": "zQECgirR6ZPn"
   },
   "outputs": [],
   "source": [
    "# Define a system prompt for OpenAI API\n",
    "client = OpenAI(api_key = api_key)\n",
    "system_prompt = \"\"\"\n",
    "You are a financial adviser. Answer based on the provided financial data.\n",
    "\"\"\""
   ]
  },
  {
   "cell_type": "code",
   "execution_count": null,
   "metadata": {
    "id": "Lhnq-DoTPsKl"
   },
   "outputs": [],
   "source": [
    "# Prepare the list of images\n",
    "image_data_list = [{\"type\": \"image_url\",\n",
    "                    \"image_url\": {\"url\": f'data:image/png;base64,{img}', \"detail\": \"high\"}} for img in base64frames]\n",
    "\n",
    "# Prepare message content with text and images\n",
    "user_message_content = [\n",
    "    {\"type\": \"text\", \"text\": text_context},\n",
    "    image_data_list\n",
    "]\n"
   ]
  },
  {
   "cell_type": "code",
   "execution_count": null,
   "metadata": {
    "id": "GtptFa6b6ua1"
   },
   "outputs": [],
   "source": [
    "# Prepare message content with images and text\n",
    "user_message_content = [\n",
    "    {\"type\": \"text\", \"text\": text_context},\n",
    "    [{\"type\": \"image_url\", \"image_url\": {\"url\": f'data:image/png;base64,{img}', \"detail\": \"high\"}} for img in base64frames]\n",
    "]"
   ]
  },
  {
   "cell_type": "code",
   "execution_count": null,
   "metadata": {
    "id": "xF6zWfcY6hR8"
   },
   "outputs": [],
   "source": [
    "# Generate response from OpenAI\n",
    "response = client.chat.completions.create(\n",
    "    model=\"gpt-4o-mini\",\n",
    "    messages=[\n",
    "        {\"role\": \"system\", \"content\": system_prompt},\n",
    "        {\"role\": \"user\", \"content\": user_message_content}\n",
    "    ],\n",
    "    temperature=0.3\n",
    ")"
   ]
  },
  {
   "cell_type": "code",
   "execution_count": null,
   "metadata": {
    "colab": {
     "base_uri": "https://localhost:8080/",
     "height": 747
    },
    "executionInfo": {
     "elapsed": 28,
     "status": "ok",
     "timestamp": 1726912479979,
     "user": {
      "displayName": "Diogo Resende",
      "userId": "05706604408624562002"
     },
     "user_tz": -120
    },
    "id": "GVk8sxhs6swq",
    "outputId": "d4f75120-e671-48a7-bdb2-e76711a84553"
   },
   "outputs": [
    {
     "data": {
      "text/markdown": [
       "Based on the financial data provided, here are some key insights and considerations for your business strategy:\n",
       "\n",
       "### Current Performance Overview\n",
       "1. **Revenue Trends**:\n",
       "   - North America shows a slight increase in total net revenues from $6,737.8 million to $6,816.7 million (1.2% growth).\n",
       "   - International revenues decreased by 6.6% in the most recent quarter, indicating potential challenges in that market.\n",
       "\n",
       "2. **Operating Income**:\n",
       "   - North America’s operating income has decreased slightly by 2.1%, while the international segment saw a significant drop of 23.2%. This suggests that cost management is critical, especially in international operations.\n",
       "\n",
       "3. **Cost Management**:\n",
       "   - Store operating expenses as a percentage of revenues have improved in North America (from 51.0% to 49.2%) but worsened in the international segment (from 50.5% to 47.9%). This indicates better efficiency in North America but highlights a need for improved cost control in international markets.\n",
       "\n",
       "### Strategic Focus Areas\n",
       "1. **Customer Engagement**:\n",
       "   - Emphasize enhancing customer experience and engagement, particularly in North America where the average active member spends significantly more. Consider loyalty programs or exclusive offers to drive higher spending.\n",
       "\n",
       "2. **Product Innovation**:\n",
       "   - Accelerate the introduction of new products that align with customer preferences. The focus on integrating exciting products with relevant marketing can help capture new customers and retain existing ones.\n",
       "\n",
       "3. **Market Expansion**:\n",
       "   - While facing challenges in international markets, identify specific regions or demographics that show potential for growth. Tailoring strategies to local preferences may improve performance.\n",
       "\n",
       "4. **Cost Efficiency**:\n",
       "   - Continue to streamline operations and reduce costs, particularly in the international segment. This could involve reviewing supply chain efficiencies and administrative expenses.\n",
       "\n",
       "5. **Long-term Opportunities**:\n",
       "   - Focus on building a sustainable business model that can withstand short-term market fluctuations. This includes investing in technology and innovation to enhance productivity and customer engagement.\n",
       "\n",
       "### Conclusion\n",
       "While the North American segment shows resilience, the international market presents challenges that need to be addressed through targeted strategies. By focusing on customer engagement, product innovation, and cost efficiency, the business can position itself for long-term growth and stability."
      ],
      "text/plain": [
       "<IPython.core.display.Markdown object>"
      ]
     },
     "metadata": {},
     "output_type": "display_data"
    }
   ],
   "source": [
    "# Display the generated response\n",
    "display(Markdown(response.choices[0].message.content))"
   ]
  }
 ],
 "metadata": {
  "colab": {
   "gpuType": "T4",
   "provenance": []
  },
  "kernelspec": {
   "display_name": "Python 3",
   "name": "python3"
  },
  "language_info": {
   "name": "python"
  }
 },
 "nbformat": 4,
 "nbformat_minor": 0
}
